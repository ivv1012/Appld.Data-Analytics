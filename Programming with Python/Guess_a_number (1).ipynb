{
  "cells": [
    {
      "cell_type": "code",
      "execution_count": 6,
      "metadata": {
        "colab": {
          "base_uri": "https://localhost:8080/"
        },
        "id": "zqhlYhovzQFz",
        "outputId": "03dce50a-bdd6-4495-af87-a98a81410eca"
      },
      "outputs": [
        {
          "output_type": "stream",
          "name": "stdout",
          "text": [
            "Current best score: grass with 6 guesses.\n",
            "Enter your name: ivy\n",
            "I'm thinking of a number between 1 and 100. Can you guess what it is?\n",
            "Enter your guess: 44\n",
            "Your guess is too low. Try again.\n",
            "Enter your guess: 77\n",
            "Your guess is too high. Try again.\n",
            "Enter your guess: 63\n",
            "Your guess is too high. Try again.\n",
            "Enter your guess: 55\n",
            "Your guess is too high. Try again.\n",
            "Enter your guess: 49\n",
            "Your guess is too high. Try again.\n",
            "Enter your guess: 45\n",
            "Congratulations ivy! You took 6 guesses.\n",
            "New best score by ivy with 6 guesses!\n"
          ]
        }
      ],
      "source": [
        "## This program is a number guessing game where the user tries to guess a randomly generated number between 1 and 100.\n",
        "#The program keeps track of the user's guesses and compares the number of guesses with the best score stored in a file.\n",
        "# If the user beats the best score, it updates the record; otherwise, it displays the current best score.\n",
        "\n",
        "import json\n",
        "import random\n",
        "# save the data to the file\n",
        "# Specify the file name\n",
        "file_json = 'num_guess.json'\n",
        "\n",
        "# Initialize variables for best score\n",
        "best_name = \"\"\n",
        "best_score =float('inf')\n",
        "\n",
        "# Try to read the best score from the file\n",
        "try:\n",
        "    with open(file_json, 'r') as file:\n",
        "        data = json.load(file)\n",
        "        best_name = data[\"user_name\"]\n",
        "        best_score = data[\"num_guess\"]\n",
        "        print(f\"Current best score: {best_name} with {best_score} guesses.\")\n",
        "except FileNotFoundError:\n",
        "    print(\"No best score on record yet.\")\n",
        "\n",
        "# Ask for user name\n",
        "user_name = input(\"Enter your name: \")\n",
        "\n",
        "# Generate a random number\n",
        "target = random.randint(1, 100)\n",
        "print(\"I'm thinking of a number between 1 and 100. Can you guess what it is?\")\n",
        "\n",
        "# Initialize the number of guesses\n",
        "num_guess = 0\n",
        "\n",
        "# Create the game loop with while\n",
        "while True:\n",
        "    # Getting user guess\n",
        "    user_guess = int(input(\"Enter your guess: \"))\n",
        "    num_guess += 1\n",
        "    # Compare the guess to the target\n",
        "    if user_guess < target:\n",
        "        print(\"Your guess is too low. Try again.\")\n",
        "    elif user_guess > target:\n",
        "        print(\"Your guess is too high. Try again.\")\n",
        "    else:\n",
        "        print(f\"Congratulations {user_name}! You took {num_guess} guesses.\")\n",
        "        break\n",
        "#Check if the current score is better than or equal to the best score\n",
        "if num_guess <= best_score:\n",
        "    print(f\"New best score by {user_name} with {num_guess} guesses!\")\n",
        "\n",
        "    # Store the new best score in a dictionary format\n",
        "    data = {\"user_name\": user_name, \"num_guess\": num_guess}\n",
        "\n",
        "    # Save the new best score to the file\n",
        "    with open(file_json, 'w') as file:\n",
        "        json.dump(data, file)\n",
        "else:\n",
        "    print(f\"Best record still held by {best_name} with {best_score} guesses.\")"
      ]
    },
    {
      "cell_type": "code",
      "execution_count": null,
      "metadata": {
        "id": "GC2TJ7XikPbW"
      },
      "outputs": [],
      "source": []
    },
    {
      "cell_type": "code",
      "execution_count": null,
      "metadata": {
        "id": "yKqNorif5n_P"
      },
      "outputs": [],
      "source": []
    }
  ],
  "metadata": {
    "colab": {
      "provenance": []
    },
    "kernelspec": {
      "display_name": "Python 3",
      "name": "python3"
    },
    "language_info": {
      "name": "python"
    }
  },
  "nbformat": 4,
  "nbformat_minor": 0
}