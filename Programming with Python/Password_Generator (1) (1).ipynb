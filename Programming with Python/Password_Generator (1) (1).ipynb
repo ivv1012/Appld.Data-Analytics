{
  "nbformat": 4,
  "nbformat_minor": 0,
  "metadata": {
    "colab": {
      "provenance": []
    },
    "kernelspec": {
      "name": "python3",
      "display_name": "Python 3"
    },
    "language_info": {
      "name": "python"
    }
  },
  "cells": [
    {
      "cell_type": "code",
      "execution_count": 1,
      "metadata": {
        "colab": {
          "base_uri": "https://localhost:8080/"
        },
        "id": "DlGtS1GY1yup",
        "outputId": "dc7447dd-d754-4b27-d660-b50719e4ca4e"
      },
      "outputs": [
        {
          "output_type": "stream",
          "name": "stdout",
          "text": [
            "This password has 3 letters, 1 numbers, and 6 symbols: ^Gk8-^T>+]\n",
            "This password has 3 letters, 1 numbers, and 6 symbols: #_)E>v3a.^\n",
            "This password has 4 letters, 1 numbers, and 5 symbols: ;e0^>$l)fJ\n",
            "This password has 6 letters, 1 numbers, and 3 symbols: sr{5-V/LJn\n",
            "This password has 6 letters, 2 numbers, and 2 symbols: +Zp8VjS^0h\n",
            "This password has 6 letters, 3 numbers, and 1 symbols: p66RbV3rY?\n",
            "This password has 5 letters, 3 numbers, and 2 symbols: @B@5w5LXX4\n",
            "This password has 6 letters, 3 numbers, and 1 symbols: /O39Q9xeqo\n",
            "This password has 4 letters, 3 numbers, and 3 symbols: 9#,F6NOD{7\n",
            "This password has 6 letters, 1 numbers, and 3 symbols: 9h^.%bSYXm\n"
          ]
        }
      ],
      "source": [
        "import random\n",
        "#The program generates 10 random passwords, each with a mix of letters, numbers, and symbols.\n",
        "#It defines a function that selects random characters, shuffles them, and returns a password.\n",
        "#A loop runs 10 times, generating passwords with randomized character counts and printing them.\n",
        "\n",
        "# Function to generate a random password\n",
        "def password(num_letters, num_numbers, num_symbols):\n",
        "# initialize strings of letters, numbers, and symbols\n",
        "    letters = 'abcdefghijklmnopqrstuvwxyzABCDEFGHIJKLMNOPQRSTUVWXYZ'\n",
        "    numbers = '0123456789'\n",
        "    symbols = '!@#$%^&*()-_=+[]{}|;:,.<>?/~`'\n",
        "\n",
        "    password_str = \"\"\n",
        "\n",
        "    # Randomly select letters\n",
        "    for num in range(num_letters):\n",
        "        letter = random.choice(letters)\n",
        "        password_str += letter\n",
        "\n",
        "    # Randomly select numbers\n",
        "    for num in range(num_numbers):\n",
        "        number = random.choice(numbers)\n",
        "        password_str += number\n",
        "\n",
        "    # Randomly select symbols\n",
        "    for num in range(num_symbols):\n",
        "        symbol = random.choice(symbols)\n",
        "        password_str += symbol\n",
        "\n",
        "    # shuffle the list of item\n",
        "    password_list = list(password_str)\n",
        "    random.shuffle(password_list)\n",
        "\n",
        "    random_password = ''\n",
        "    # change the list to string BY access each item and concat into a string\n",
        "    for item in password_list:\n",
        "      #add the item to the str\n",
        "     random_password= random_password + item\n",
        "    return(random_password)\n",
        "\n",
        "# Generate and print 10 random passwords with varying letter, number, and symbol count\n",
        "for num in range(10):\n",
        "    # Choose between 3 to 6 letters\n",
        "    num_letters = random.randint(3, 6)\n",
        "    # Choose between 1 to 4 numbers\n",
        "    num_numbers = random.randint(1, 4)\n",
        "     # The rest are symbols\n",
        "    num_symbols = 10 - num_letters - num_numbers\n",
        "    # Call the password() function and generate the password\n",
        "    generated_password = password(num_letters, num_numbers, num_symbols)\n",
        "    # Print the result\n",
        "    print(f\"This password has {num_letters} letters, {num_numbers} numbers, and {num_symbols} symbols: {generated_password}\")\n",
        "\n"
      ]
    }
  ]
}