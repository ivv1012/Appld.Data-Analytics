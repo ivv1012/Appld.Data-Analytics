{
 "cells": [
  {
   "cell_type": "markdown",
   "metadata": {},
   "source": [
    "# ISOM 352 Applied Data Analytics with Coding\n"
   ]
  },
  {
   "cell_type": "markdown",
   "metadata": {},
   "source": [
    "### Real Estate Data Analysis \n",
    "exploring and analyzing real estate data using Pandas and visualization\n",
    "- Data Importation and Preliminary Exploration\n",
    "- Single Variable Analysis"
   ]
  },
  {
   "cell_type": "code",
   "execution_count": 1,
   "metadata": {},
   "outputs": [],
   "source": [
    "# Install and import the library \n",
    "\n",
    "import pandas as pd\n",
    "import matplotlib.pyplot as plt\n",
    "import seaborn as sns\n",
    "\n",
    "plt.style.use('ggplot')"
   ]
  },
  {
   "cell_type": "markdown",
   "metadata": {},
   "source": [
    "## Data Exploration \n"
   ]
  },
  {
   "cell_type": "code",
   "execution_count": 2,
   "metadata": {},
   "outputs": [
    {
     "name": "stdout",
     "output_type": "stream",
     "text": [
      "<class 'pandas.core.frame.DataFrame'>\n",
      "RangeIndex: 108 entries, 0 to 107\n",
      "Data columns (total 12 columns):\n",
      " #   Column    Non-Null Count  Dtype \n",
      "---  ------    --------------  ----- \n",
      " 0   house     108 non-null    int64 \n",
      " 1   sqft      108 non-null    int64 \n",
      " 2   beds      108 non-null    int64 \n",
      " 3   baths     108 non-null    int64 \n",
      " 4   heat      108 non-null    int64 \n",
      " 5   style     108 non-null    object\n",
      " 6   garage    108 non-null    int64 \n",
      " 7   basement  108 non-null    int64 \n",
      " 8   age       108 non-null    int64 \n",
      " 9   fire      108 non-null    int64 \n",
      " 10  price     108 non-null    int64 \n",
      " 11  school    108 non-null    object\n",
      "dtypes: int64(10), object(2)\n",
      "memory usage: 10.3+ KB\n",
      "--------------------------------------------------\n",
      "Number of Rows and Columns:\n",
      "(108, 12)\n",
      "--------------------------------------------------\n",
      "Column Names:\n",
      "Index(['house', 'sqft', 'beds', 'baths', 'heat', 'style', 'garage', 'basement',\n",
      "       'age', 'fire', 'price', 'school'],\n",
      "      dtype='object')\n",
      "--------------------------------------------------\n",
      "Data Types:\n",
      "house        int64\n",
      "sqft         int64\n",
      "beds         int64\n",
      "baths        int64\n",
      "heat         int64\n",
      "style       object\n",
      "garage       int64\n",
      "basement     int64\n",
      "age          int64\n",
      "fire         int64\n",
      "price        int64\n",
      "school      object\n",
      "dtype: object\n",
      "--------------------------------------------------\n",
      "First 5 Rows:\n",
      "   house  sqft  beds  baths  heat     style  garage  basement  age  fire  \\\n",
      "0      1  1610     3      2     0  Cape Cod       1         1   12     1   \n",
      "1      2  2151     3      2     1  Cape Cod       2         0   13     1   \n",
      "2      3  1718     4      2     0  Cape Cod       2         1   17     0   \n",
      "3      4  1534     3      2     0  Cape Cod       2         1   11     1   \n",
      "4      5  1527     3      2     0  Cape Cod       1         0    6     1   \n",
      "\n",
      "    price        school  \n",
      "0  234280  Apple Valley  \n",
      "1  246360    Plum Ridge  \n",
      "2  265650    Plum Ridge  \n",
      "3  237420    Plum Ridge  \n",
      "4  259170    Plum Ridge  \n",
      "--------------------------------------------------\n",
      "Summary Statistics:\n",
      "           house         sqft        beds       baths        heat      garage  \\\n",
      "count  108.00000   108.000000  108.000000  108.000000  108.000000  108.000000   \n",
      "mean    54.50000  1994.481481    3.601852    2.648148    0.138889    2.037037   \n",
      "std     31.32092   443.710975    0.682763    0.552223    0.347443    0.332814   \n",
      "min      1.00000   861.000000    3.000000    2.000000    0.000000    1.000000   \n",
      "25%     27.75000  1649.250000    3.000000    2.000000    0.000000    2.000000   \n",
      "50%     54.50000  2034.500000    3.500000    3.000000    0.000000    2.000000   \n",
      "75%     81.25000  2304.750000    4.000000    3.000000    0.000000    2.000000   \n",
      "max    108.00000  3222.000000    6.000000    4.000000    1.000000    3.000000   \n",
      "\n",
      "         basement         age        fire          price  \n",
      "count  108.000000  108.000000  108.000000     108.000000  \n",
      "mean     0.842593   11.231481    0.805556  341394.629630  \n",
      "std      0.365882    4.655630    0.397618   82092.910396  \n",
      "min      0.000000    1.000000    0.000000  197300.000000  \n",
      "25%      1.000000    8.000000    1.000000  285017.500000  \n",
      "50%      1.000000   11.000000    1.000000  331715.000000  \n",
      "75%      1.000000   14.000000    1.000000  377335.000000  \n",
      "max      1.000000   22.000000    1.000000  675030.000000  \n"
     ]
    }
   ],
   "source": [
    "# import the eastville.csv into pandas\n",
    "df = pd.read_csv(\"eastville.csv\")\n",
    "\n",
    "# show the info of file\n",
    "df.info()\n",
    "print(\"-\"*50)\n",
    "\n",
    "# Number of rows and columns\n",
    "print(\"Number of Rows and Columns:\")\n",
    "print(df.shape)\n",
    "print(\"-\"*50)\n",
    "\n",
    "# Column names\n",
    "print(\"Column Names:\")\n",
    "print(df.columns)\n",
    "print(\"-\"*50)\n",
    "\n",
    "# Data types of each column\n",
    "print(\"Data Types:\")\n",
    "print(df.dtypes)\n",
    "print(\"-\"*50)\n",
    "\n",
    "# Display the first 5 rows\n",
    "print(\"First 5 Rows:\")\n",
    "print(df.head())\n",
    "print(\"-\"*50)\n",
    "\n",
    "# Descriptive statistics\n",
    "print(\"Summary Statistics:\")\n",
    "print(df.describe())\n"
   ]
  },
  {
   "cell_type": "markdown",
   "metadata": {},
   "source": [
    "## Single Variable Analysis - Price \n",
    "\n"
   ]
  },
  {
   "cell_type": "markdown",
   "metadata": {},
   "source": [
    "### Numerical Summaries For 'price'"
   ]
  },
  {
   "cell_type": "code",
   "execution_count": 3,
   "metadata": {},
   "outputs": [
    {
     "name": "stdout",
     "output_type": "stream",
     "text": [
      "Price Summary:\n",
      "count       108.000000\n",
      "mean     341394.629630\n",
      "std       82092.910396\n",
      "min      197300.000000\n",
      "25%      285017.500000\n",
      "50%      331715.000000\n",
      "75%      377335.000000\n",
      "max      675030.000000\n",
      "Name: price, dtype: float64\n"
     ]
    }
   ],
   "source": [
    "# summary statistics for the 'price' column\n",
    "print(\"Price Summary:\")\n",
    "print(df['price'].describe())\n"
   ]
  },
  {
   "cell_type": "markdown",
   "metadata": {},
   "source": [
    "### Graphical Summaries For 'price'"
   ]
  },
  {
   "cell_type": "code",
   "execution_count": 37,
   "metadata": {},
   "outputs": [
    {
     "data": {
      "text/plain": [
       "Text(0, 0.5, 'Frequency')"
      ]
     },
     "execution_count": 37,
     "metadata": {},
     "output_type": "execute_result"
    },
    {
     "data": {
      "image/png": "[encoded data removed]",
      "text/plain": [
       "<Figure size 640x480 with 1 Axes>"
      ]
     },
     "metadata": {},
     "output_type": "display_data"
    }
   ],
   "source": [
    "df['price'].plot(kind='hist', title=\"Distribution of Prices\")\n",
    "plt.xlabel('Price')\n",
    "plt.ylabel('Frequency')\n"
   ]
  },
  {
   "cell_type": "markdown",
   "metadata": {},
   "source": [
    "Based on both the numerical and graphical analysis for price, the most typical value for price is 341394.63 whcih represent the average price of properties. The most typical range is between 259301.72 to 423487.54. The minimum price is 197300 and the maximum is 675030. \n",
    "\n",
    "Looking at the histogram, the shape is right skewed, meaning there are more lower price properties and fewer properteis at very high prices. "
   ]
  },
  {
   "cell_type": "markdown",
   "metadata": {},
   "source": [
    "## Single Variable Analysis - Style"
   ]
  },
  {
   "cell_type": "markdown",
   "metadata": {},
   "source": [
    "### Cast Data Type to Category"
   ]
  },
  {
   "cell_type": "code",
   "execution_count": 39,
   "metadata": {},
   "outputs": [
    {
     "name": "stdout",
     "output_type": "stream",
     "text": [
      "Updated style column:\n",
      "0      Cape Cod\n",
      "1      Cape Cod\n",
      "2      Cape Cod\n",
      "3      Cape Cod\n",
      "4      Cape Cod\n",
      "         ...   \n",
      "103       Ranch\n",
      "104       Ranch\n",
      "105       Ranch\n",
      "106       Ranch\n",
      "107       Ranch\n",
      "Name: style, Length: 108, dtype: category\n",
      "Categories (3, object): ['Cape Cod', 'Ranch', 'Two-story']\n"
     ]
    }
   ],
   "source": [
    "df['style'] = df['style'].astype(\"category\")\n",
    "print(\"Updated style column:\")\n",
    "print(df['style'])\n"
   ]
  },
  {
   "cell_type": "markdown",
   "metadata": {},
   "source": [
    "### Numerical Summaries For 'style'"
   ]
  },
  {
   "cell_type": "code",
   "execution_count": 40,
   "metadata": {},
   "outputs": [
    {
     "name": "stdout",
     "output_type": "stream",
     "text": [
      "Style Frequency:\n",
      "style\n",
      "Ranch        44\n",
      "Cape Cod     39\n",
      "Two-story    25\n",
      "Name: count, dtype: int64\n"
     ]
    }
   ],
   "source": [
    "# summary statistics for the 'style' column\n",
    "print(\"Style Frequency:\") \n",
    "print(df['style'].value_counts())\n"
   ]
  },
  {
   "cell_type": "markdown",
   "metadata": {},
   "source": [
    "### Graphical Summaries For 'style'"
   ]
  },
  {
   "cell_type": "code",
   "execution_count": 42,
   "metadata": {},
   "outputs": [
    {
     "data": {
      "text/plain": [
       "Text(0, 0.5, 'Count')"
      ]
     },
     "execution_count": 42,
     "metadata": {},
     "output_type": "execute_result"
    },
    {
     "data": {
      "image/png": "[encoded data removed]",
      "text/plain": [
       "<Figure size 640x480 with 1 Axes>"
      ]
     },
     "metadata": {},
     "output_type": "display_data"
    }
   ],
   "source": [
    "df['style'].value_counts().plot(kind='bar',title='Frequency of Property Style')\n",
    "plt.xlabel(\"Style\")\n",
    "plt.ylabel(\"Count\")"
   ]
  },
  {
   "cell_type": "markdown",
   "metadata": {},
   "source": [
    "Based on both the numerical and graphical analysis for style, the most frequent property style is Ranch with a frequency of 44. Two Story has the least frequent property style with 25 occurrences."
   ]
  },
  {
   "cell_type": "markdown",
   "metadata": {},
   "source": [
    "## Relationship Between Price and Style"
   ]
  },
  {
   "cell_type": "markdown",
   "metadata": {},
   "source": [
    "### We will be creating a boxplot to visualize the relationship between price and style "
   ]
  },
  {
   "cell_type": "code",
   "execution_count": 45,
   "metadata": {},
   "outputs": [
    {
     "data": {
      "text/plain": [
       "Text(0.5, 1.0, 'Price Distribution by Property Style')"
      ]
     },
     "execution_count": 45,
     "metadata": {},
     "output_type": "execute_result"
    },
    {
     "data": {
      "image/png": "[encoded data removed]",
      "text/plain": [
       "<Figure size 640x480 with 1 Axes>"
      ]
     },
     "metadata": {},
     "output_type": "display_data"
    }
   ],
   "source": [
    "sns.boxplot(x='style', y='price', data=df)\n",
    "plt.title(\"Price Distribution by Property Style\")\n"
   ]
  },
  {
   "cell_type": "markdown",
   "metadata": {},
   "source": [
    "The boxplot shows property stype influceses price distsribution. Out of the three property styles, **Ranch properties** tend to be the most expensive, with the highest median price. Cape Cod and Two-story homes are more affordable. The median price for Cape Cod is slightly lower than that of Two-story homes. Additionally, **Cape Cod** has the smallest IQR, meaning its prices are more consistent, while Ranch homes have more extreme high-price outliers.\n",
    "\n",
    "If someone wants a stable price range, Cape Cod homes are a better option. If someone is looking for a high-value property, Ranch homes can be a good choice."
   ]
  }
 ],
 "metadata": {
  "kernelspec": {
   "display_name": "base",
   "language": "python",
   "name": "python3"
  },
  "language_info": {
   "codemirror_mode": {
    "name": "ipython",
    "version": 3
   },
   "file_extension": ".py",
   "mimetype": "text/x-python",
   "name": "python",
   "nbconvert_exporter": "python",
   "pygments_lexer": "ipython3",
   "version": "3.12.7"
  }
 },
 "nbformat": 4,
 "nbformat_minor": 2
}
